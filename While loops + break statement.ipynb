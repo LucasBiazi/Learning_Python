{
 "cells": [
  {
   "cell_type": "code",
   "execution_count": 3,
   "metadata": {},
   "outputs": [
    {
     "name": "stdout",
     "output_type": "stream",
     "text": [
      "55\n"
     ]
    }
   ],
   "source": [
    "# Summing the numbers among 0 - 10 within a while loop\n",
    "total = 0\n",
    "i = 0\n",
    "while i < 11:\n",
    "    total += i\n",
    "    i += 1\n",
    "print(total)"
   ]
  },
  {
   "cell_type": "code",
   "execution_count": 7,
   "metadata": {},
   "outputs": [
    {
     "name": "stdout",
     "output_type": "stream",
     "text": [
      "17\n"
     ]
    }
   ],
   "source": [
    "# While is used when you don't know the amount of loops that you need\n",
    "# Pretend you don't know the content of the following list. All you know is that the list\n",
    "# is in descending order.\n",
    "# You want the sum of all the positive numbers of this list.\n",
    "secret_list = [5, 4, 4, 3, 1, -2, -3, -5]\n",
    "total2 = 0\n",
    "i = 0\n",
    "while secret_list[i] > 0:\n",
    "    total2 += secret_list[i]\n",
    "    i += 1\n",
    "print(total2)"
   ]
  },
  {
   "cell_type": "code",
   "execution_count": 22,
   "metadata": {},
   "outputs": [
    {
     "name": "stdout",
     "output_type": "stream",
     "text": [
      "17\n"
     ]
    }
   ],
   "source": [
    "# The same is possible in for. Considering the list above, and knowing that after the\n",
    "# negative numbers we don't have positive ones:\n",
    "secret_list = [5, 4, 4, 3, 1, -2, -3, -5]\n",
    "total3 = 0\n",
    "for i in secret_list:\n",
    "    if i <= 0:\n",
    "        break\n",
    "    total3 += i\n",
    "print(total3)"
   ]
  },
  {
   "cell_type": "code",
   "execution_count": 23,
   "metadata": {},
   "outputs": [
    {
     "name": "stdout",
     "output_type": "stream",
     "text": [
      "17\n"
     ]
    }
   ],
   "source": [
    "# The same solution as above, but in while, and using break:\n",
    "secret_list = [5, 4, 4, 3, 1, -2, -3, -5]\n",
    "total4 = 0\n",
    "i = 0\n",
    "# Always true:\n",
    "while True:\n",
    "    if secret_list[i] <= 0:\n",
    "        break\n",
    "    total4 += secret_list[i]\n",
    "    i += 1\n",
    "print(total4)"
   ]
  },
  {
   "cell_type": "code",
   "execution_count": 24,
   "metadata": {},
   "outputs": [
    {
     "name": "stdout",
     "output_type": "stream",
     "text": [
      "-10\n"
     ]
    }
   ],
   "source": [
    "# Now sum the negative ones using while + break \n",
    "secret_list = [5, 4, 4, 3, 1, -2, -3, -5]\n",
    "total5 = 0\n",
    "# -1 == the last position of a list\n",
    "i = -1\n",
    "while True:\n",
    "    if secret_list[i] >= 0:\n",
    "        break\n",
    "    total5 += secret_list[i]\n",
    "    i += -1\n",
    "print(total5)"
   ]
  },
  {
   "cell_type": "code",
   "execution_count": 65,
   "metadata": {
    "scrolled": true
   },
   "outputs": [
    {
     "name": "stdout",
     "output_type": "stream",
     "text": [
      "Ascending: \n",
      "[-5, -4, -3, -1, 0, 0, 1, 1, 2, 4, 5]\n",
      "[-5, -4, -3, -1, 0, 0, 1, 1, 2, 4, 5]\n",
      "\n",
      "Descending: \n",
      "[5, 4, 2, 1, 1, 0, 0, -1, -3, -4, -5]\n",
      "[5, 4, 2, 1, 1, 0, 0, -1, -3, -4, -5]\n"
     ]
    }
   ],
   "source": [
    "# Organize a list in an ascending order. You don't know its content,\n",
    "# neither its length\n",
    "random_list = [0, 0, -1, 5 ,3 -2, -3, -4, 4, -5, 2, 1]\n",
    "new_list =[]\n",
    "\n",
    "# Get the smallest value possible. Add as the first of a new list, get rid of it in the \n",
    "# original one.\n",
    "print(\"Ascending: \")\n",
    "while random_list:\n",
    "    smallest_value = random_list[0];\n",
    "    for i in random_list:\n",
    "        if i < smallest_value:\n",
    "            smallest_value = i\n",
    "    new_list.append(smallest_value)\n",
    "    random_list.remove(smallest_value)\n",
    "print(new_list)\n",
    "\n",
    "# Or:\n",
    "random_list = [0, 0, -1, 5 ,3 -2, -3, -4, 4, -5, 2, 1]\n",
    "random_list.sort()\n",
    "print(random_list)\n",
    "\n",
    "# Now, in descending\n",
    "new_list =[]\n",
    "print(\"\\nDescending: \")\n",
    "random_list = [0, 0, -1, 5 ,3 -2, -3, -4, 4, -5, 2, 1]\n",
    "\n",
    "while random_list:\n",
    "    biggest_value = random_list[0]\n",
    "    for i in random_list:\n",
    "        if biggest_value < i:\n",
    "            biggest_value = i\n",
    "    new_list.append(biggest_value)\n",
    "    random_list.remove(biggest_value)\n",
    "print(new_list)    \n",
    "\n",
    "# Or:\n",
    "random_list = [0, 0, -1, 5 ,3 -2, -3, -4, 4, -5, 2, 1]\n",
    "random_list.sort(reverse=True)\n",
    "print(random_list)"
   ]
  },
  {
   "cell_type": "code",
   "execution_count": null,
   "metadata": {},
   "outputs": [],
   "source": []
  }
 ],
 "metadata": {
  "kernelspec": {
   "display_name": "Python 3",
   "language": "python",
   "name": "python3"
  },
  "language_info": {
   "codemirror_mode": {
    "name": "ipython",
    "version": 3
   },
   "file_extension": ".py",
   "mimetype": "text/x-python",
   "name": "python",
   "nbconvert_exporter": "python",
   "pygments_lexer": "ipython3",
   "version": "3.8.3"
  }
 },
 "nbformat": 4,
 "nbformat_minor": 4
}
