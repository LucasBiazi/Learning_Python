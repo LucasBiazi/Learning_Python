{
 "cells": [
  {
   "cell_type": "code",
   "execution_count": 3,
   "metadata": {},
   "outputs": [
    {
     "name": "stdout",
     "output_type": "stream",
     "text": [
      "I'm inside the function!\n",
      "I'm outside the function!\n"
     ]
    }
   ],
   "source": [
    "# Functions = collection of code.\n",
    "def function1():\n",
    "    print(\"I'm inside the function!\")\n",
    "function1()\n",
    "print(\"I'm outside the function!\")"
   ]
  },
  {
   "cell_type": "code",
   "execution_count": 7,
   "metadata": {},
   "outputs": [
    {
     "name": "stdout",
     "output_type": "stream",
     "text": [
      "6\n"
     ]
    }
   ],
   "source": [
    "# Mapping/Input an argument\n",
    "def function2(n):\n",
    "    return 2*n\n",
    "a = function2(3)\n",
    "print(a)"
   ]
  },
  {
   "cell_type": "code",
   "execution_count": 8,
   "metadata": {
    "scrolled": false
   },
   "outputs": [
    {
     "name": "stdout",
     "output_type": "stream",
     "text": [
      "10\n"
     ]
    }
   ],
   "source": [
    "def function3(x, y):\n",
    "    return x+y\n",
    "a = function3(5,5)\n",
    "print(a)"
   ]
  },
  {
   "cell_type": "code",
   "execution_count": 13,
   "metadata": {},
   "outputs": [
    {
     "name": "stdout",
     "output_type": "stream",
     "text": [
      "!\n",
      "I'll appear anyway\n"
     ]
    }
   ],
   "source": [
    "def function4(z):\n",
    "    print(z)\n",
    "    print(\"I'll appear anyway\")\n",
    "    # Return will give its value to whoever calls it!\n",
    "    return 3*z\n",
    "f = function4(\"!\")"
   ]
  },
  {
   "cell_type": "code",
   "execution_count": 12,
   "metadata": {},
   "outputs": [
    {
     "name": "stdout",
     "output_type": "stream",
     "text": [
      "!!!\n"
     ]
    }
   ],
   "source": [
    "print(f)"
   ]
  },
  {
   "cell_type": "code",
   "execution_count": 17,
   "metadata": {},
   "outputs": [
    {
     "name": "stdout",
     "output_type": "stream",
     "text": [
      "My argument!\n",
      "Yay!\n"
     ]
    }
   ],
   "source": [
    "# There's no point in attributing the function to a letter, if there's no return in it\n",
    "def function5(some_argument):\n",
    "    print(some_argument)\n",
    "    print(\"Yay!\")\n",
    "function5(\"My argument!\")"
   ]
  },
  {
   "cell_type": "code",
   "execution_count": 28,
   "metadata": {},
   "outputs": [],
   "source": [
    "# BMI Calculator, AKA = Body Mass Index!\n",
    "name1 = \"Lucas\"\n",
    "height_m1 = 2\n",
    "weight_kg1 = 65\n",
    "\n",
    "name2 = \"Jeff\"\n",
    "height_m2 = 1.5\n",
    "weight_kg2 = 70\n",
    "\n",
    "name3 = \"Roger\"\n",
    "height_m3 = 2.2\n",
    "weight_kg3 = 85.6\n",
    "\n",
    "def bmi_calculator(name, height_m, weight_kg):\n",
    "    # height_m ** 2 == height * height\n",
    "    bmi = weight_kg / (height_m ** 2)\n",
    "    print(\"bmi: \")\n",
    "    print(bmi)\n",
    "    if bmi < 25:\n",
    "        return name + \" is not overweight!\"\n",
    "    else:\n",
    "        return name + \" is overweight!\""
   ]
  },
  {
   "cell_type": "code",
   "execution_count": 29,
   "metadata": {},
   "outputs": [
    {
     "name": "stdout",
     "output_type": "stream",
     "text": [
      "bmi: \n",
      "16.25\n",
      "bmi: \n",
      "31.11111111111111\n",
      "bmi: \n",
      "17.685950413223136\n"
     ]
    }
   ],
   "source": [
    "result1 = bmi_calculator(name1, height_m1, weight_kg1)\n",
    "result2 = bmi_calculator(name2, height_m2, weight_kg2)\n",
    "result3 = bmi_calculator(name3, height_m3, weight_kg3)"
   ]
  },
  {
   "cell_type": "code",
   "execution_count": 30,
   "metadata": {},
   "outputs": [
    {
     "name": "stdout",
     "output_type": "stream",
     "text": [
      "Lucas is not overweight!\n",
      "Jeff is overweight!\n",
      "Roger is not overweight!\n"
     ]
    }
   ],
   "source": [
    "print(result1)\n",
    "print(result2)\n",
    "print(result3)"
   ]
  },
  {
   "cell_type": "code",
   "execution_count": 45,
   "metadata": {},
   "outputs": [],
   "source": [
    "# Converting Miles to Kilometers. kilometers = 1.6 * miles\n",
    "# You can not print int + strings; As a solution, convert them all using the str() function!\n",
    "def m_to_km(miles):\n",
    "    kilometers = 1.6 * miles\n",
    "    return str(miles) + \" miles equals to: \" + str(kilometers) + \" kilometers!\""
   ]
  },
  {
   "cell_type": "code",
   "execution_count": 46,
   "metadata": {},
   "outputs": [
    {
     "name": "stdout",
     "output_type": "stream",
     "text": [
      "5 miles equals to: 8.0 kilometers!\n"
     ]
    }
   ],
   "source": [
    "print(m_to_km(5))"
   ]
  }
 ],
 "metadata": {
  "kernelspec": {
   "display_name": "Python 3",
   "language": "python",
   "name": "python3"
  },
  "language_info": {
   "codemirror_mode": {
    "name": "ipython",
    "version": 3
   },
   "file_extension": ".py",
   "mimetype": "text/x-python",
   "name": "python",
   "nbconvert_exporter": "python",
   "pygments_lexer": "ipython3",
   "version": "3.8.3"
  }
 },
 "nbformat": 4,
 "nbformat_minor": 4
}
