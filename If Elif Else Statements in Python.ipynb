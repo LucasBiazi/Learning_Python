{
 "cells": [
  {
   "cell_type": "code",
   "execution_count": 8,
   "metadata": {},
   "outputs": [
    {
     "name": "stdout",
     "output_type": "stream",
     "text": [
      "A is less than b!\n",
      "Message outside the if statement!\n"
     ]
    }
   ],
   "source": [
    "#Simple IF (4 spaces are the pattern in python!)\n",
    "a = 1\n",
    "b = 2\n",
    "if a < b:\n",
    "    print(\"A is less than b!\")\n",
    "print(\"Message outside the if statement!\")"
   ]
  },
  {
   "cell_type": "code",
   "execution_count": 11,
   "metadata": {},
   "outputs": [
    {
     "name": "stdout",
     "output_type": "stream",
     "text": [
      "D is bigger than c!\n",
      "Message outside the if/else statement!\n"
     ]
    }
   ],
   "source": [
    "#If + Else Statement\n",
    "c = 3\n",
    "d = 4\n",
    "if c > d:\n",
    "    print(\"C is bigger than d!\")\n",
    "else:\n",
    "    print(\"D is bigger than c!\")\n",
    "print(\"Message outside the if/else statement!\")"
   ]
  },
  {
   "cell_type": "code",
   "execution_count": 19,
   "metadata": {},
   "outputs": [
    {
     "name": "stdout",
     "output_type": "stream",
     "text": [
      "H is greater than E by 5!\n",
      "Message outside the if/elfi/else statement!\n"
     ]
    }
   ],
   "source": [
    "#If + Elif + Else Statement\n",
    "e = 1\n",
    "h = 7\n",
    "if e > h:\n",
    "    print(\"E is bigger than H!\")\n",
    "elif e == h: #elif = else if\n",
    "    print(\"H is equal to E!\")\n",
    "elif h > e + 5:\n",
    "    print(\"H is greater than E by 5!\")\n",
    "else:\n",
    "    print(\"Which one is bigger?\")\n",
    "print(\"Message outside the if/elfi/else statement!\")"
   ]
  },
  {
   "cell_type": "code",
   "execution_count": 35,
   "metadata": {},
   "outputs": [
    {
     "name": "stdout",
     "output_type": "stream",
     "text": [
      "The names are not equal!\n",
      "Name1 equals Lucas!\n",
      "Message within the first if statement!\n",
      "Message outside the if statement!\n"
     ]
    }
   ],
   "source": [
    "#Complex If/Elif/Else Statements\n",
    "name1 = 'Lucas'\n",
    "name2 = 'Roger'\n",
    "\n",
    "if name1 != name2:\n",
    "    print('The names are not equal!')\n",
    "    if name1 == 'Roger':\n",
    "        print('Name1 equals Roger!')\n",
    "    elif name1 == 'Lucas':\n",
    "        print('Name1 equals Lucas!')\n",
    "    print('Message within the first if statement!')\n",
    "print('Message outside the if statement!')"
   ]
  },
  {
   "cell_type": "code",
   "execution_count": null,
   "metadata": {},
   "outputs": [],
   "source": []
  }
 ],
 "metadata": {
  "kernelspec": {
   "display_name": "Python 3",
   "language": "python",
   "name": "python3"
  },
  "language_info": {
   "codemirror_mode": {
    "name": "ipython",
    "version": 3
   },
   "file_extension": ".py",
   "mimetype": "text/x-python",
   "name": "python",
   "nbconvert_exporter": "python",
   "pygments_lexer": "ipython3",
   "version": "3.8.3"
  }
 },
 "nbformat": 4,
 "nbformat_minor": 4
}
