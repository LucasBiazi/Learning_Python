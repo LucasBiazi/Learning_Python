{
 "cells": [
  {
   "cell_type": "code",
   "execution_count": 5,
   "metadata": {},
   "outputs": [
    {
     "name": "stdout",
     "output_type": "stream",
     "text": [
      "{'Lucas': 18}\n",
      "{'Rob': 27}\n"
     ]
    }
   ],
   "source": [
    "# Dictionaries are like tables. In which we have a value that is associated with a key.\n",
    "# Can be defined as:\n",
    "dictionary = {\"Lucas\": 18}\n",
    "print(dictionary)\n",
    "# Or\n",
    "dictionary = dict({\"Rob\": 27})\n",
    "print(dictionary)"
   ]
  },
  {
   "cell_type": "code",
   "execution_count": 11,
   "metadata": {},
   "outputs": [
    {
     "name": "stdout",
     "output_type": "stream",
     "text": [
      "('George', 'Jenny')\n",
      "Lucas\n"
     ]
    }
   ],
   "source": [
    "# Appending values\n",
    "d = {}\n",
    "d[\"George\", \"Jenny\"] = 24\n",
    "d[\"Lucas\"] = 18\n",
    "for i in d:\n",
    "    print(i)"
   ]
  },
  {
   "cell_type": "code",
   "execution_count": 24,
   "metadata": {},
   "outputs": [
    {
     "name": "stdout",
     "output_type": "stream",
     "text": [
      "  Key: Lucas\n",
      "Value: 18\n",
      "\n",
      "  Key: Rob\n",
      "Value: 24\n",
      "\n",
      "  Key: Jenny\n",
      "Value: 24\n",
      "\n",
      "  Key: 99\n",
      "Value: 99\n",
      "\n"
     ]
    }
   ],
   "source": [
    "# Keys canbe e.g.: strings, numbers... Whereas values can be any type.\n",
    "d = {\"Lucas\": 18, \"Rob\": 24, \"Jenny\": 24, 99:99}\n",
    "# When running through dictionaries make sure to use .items() and add a variable to the keys\n",
    "# and its values.\n",
    "for key, value in d.items():\n",
    "    print(\"  Key: \" + str(key))\n",
    "    print(\"Value: \" + str(value) + \"\\n\")    "
   ]
  },
  {
   "cell_type": "code",
   "execution_count": null,
   "metadata": {},
   "outputs": [],
   "source": []
  }
 ],
 "metadata": {
  "kernelspec": {
   "display_name": "Python 3",
   "language": "python",
   "name": "python3"
  },
  "language_info": {
   "codemirror_mode": {
    "name": "ipython",
    "version": 3
   },
   "file_extension": ".py",
   "mimetype": "text/x-python",
   "name": "python",
   "nbconvert_exporter": "python",
   "pygments_lexer": "ipython3",
   "version": "3.8.3"
  }
 },
 "nbformat": 4,
 "nbformat_minor": 4
}
