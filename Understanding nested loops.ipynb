{
 "cells": [
  {
   "cell_type": "code",
   "execution_count": 8,
   "metadata": {},
   "outputs": [
    {
     "name": "stdout",
     "output_type": "stream",
     "text": [
      "Number of times the i for loop occurred:\n",
      "10\n",
      "Number of times the j for loop occurred:\n",
      "100\n",
      "Number of times the k for loop occurred:\n",
      "1000\n",
      "Number of times the l for loop occurred:\n",
      "2000\n"
     ]
    }
   ],
   "source": [
    "j_counter = 0\n",
    "i_counter = 0\n",
    "k_counter = 0\n",
    "l_counter = 0\n",
    "\n",
    "# The first for will run 10 times (10 ^ 1)\n",
    "for i in range(10):\n",
    "    # The second for will run 100 times (10 x 2)\n",
    "    for j in range(10):\n",
    "        # The third for will run 1000 times (10 x 3)\n",
    "        for k in range(10):\n",
    "            # The fourth for will run 2000 times ((10 x 3) x 2) = 2000\n",
    "            for l in range(2):\n",
    "                l_counter += 1\n",
    "            k_counter += 1\n",
    "        j_counter += 1\n",
    "    i_counter += 1\n",
    "\n",
    "print('Number of times the i for loop occurred:')\n",
    "print(i_counter)\n",
    "print('Number of times the j for loop occurred:')\n",
    "print(j_counter)\n",
    "print('Number of times the k for loop occurred:')\n",
    "print(k_counter)\n",
    "print('Number of times the l for loop occurred:')\n",
    "print(l_counter)"
   ]
  },
  {
   "cell_type": "code",
   "execution_count": 18,
   "metadata": {},
   "outputs": [
    {
     "name": "stdout",
     "output_type": "stream",
     "text": [
      "Generation number: 1\n",
      "Lucas Jeff Roger Matt \n",
      "\n",
      "Generation number: 2\n",
      "Lucas Jeff Roger Matt \n",
      "\n"
     ]
    }
   ],
   "source": [
    "numbers_list = [ 1, 2]\n",
    "names_list = ['Lucas', 'Jeff', 'Roger', 'Matt']\n",
    "for i in numbers_list:\n",
    "    names = ''\n",
    "    print('Generation number: ' + str(i))\n",
    "    for j in names_list:\n",
    "        names += j + ' '\n",
    "    print(names + '\\n')    \n"
   ]
  },
  {
   "cell_type": "code",
   "execution_count": 7,
   "metadata": {},
   "outputs": [
    {
     "name": "stdout",
     "output_type": "stream",
     "text": [
      "Nº: 1\n",
      "Nº: 2\n",
      "Nº: 3\n",
      "Nº: 4\n",
      "Nº: 5\n",
      "Nº: 6\n",
      "Nº: 7\n",
      "Nº: 8\n",
      "Nº: 9\n",
      "Nº: 10\n",
      "\n"
     ]
    }
   ],
   "source": [
    "# The first loop will run as long as True == True (forever)\n",
    "numbers = ''\n",
    "is_true = True\n",
    "\n",
    "while is_true:\n",
    "    for i in range(1, 11):\n",
    "        numbers += \"Nº: \" + str(i) + '\\n'\n",
    "    is_true = False\n",
    "print(numbers)"
   ]
  },
  {
   "cell_type": "code",
   "execution_count": 30,
   "metadata": {},
   "outputs": [
    {
     "name": "stdout",
     "output_type": "stream",
     "text": [
      "| 1 | 2 2 | 3 3 3 | 4 4 4 4 | 5 5 5 5 5 | \n"
     ]
    }
   ],
   "source": [
    "# Print 1 one time, 2 two times, ...\n",
    "total = '| '\n",
    "n_list = [1, 2, 3, 4, 5]\n",
    "for i in range(1, 6):\n",
    "    for j in range(i):\n",
    "        total += str(i) + ' '\n",
    "    total += '| '\n",
    "print(total)"
   ]
  },
  {
   "cell_type": "code",
   "execution_count": null,
   "metadata": {},
   "outputs": [],
   "source": []
  }
 ],
 "metadata": {
  "kernelspec": {
   "display_name": "Python 3",
   "language": "python",
   "name": "python3"
  },
  "language_info": {
   "codemirror_mode": {
    "name": "ipython",
    "version": 3
   },
   "file_extension": ".py",
   "mimetype": "text/x-python",
   "name": "python",
   "nbconvert_exporter": "python",
   "pygments_lexer": "ipython3",
   "version": "3.8.3"
  }
 },
 "nbformat": 4,
 "nbformat_minor": 4
}
