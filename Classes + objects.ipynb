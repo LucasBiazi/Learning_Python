{
 "cells": [
  {
   "cell_type": "code",
   "execution_count": 2,
   "metadata": {},
   "outputs": [
    {
     "name": "stdout",
     "output_type": "stream",
     "text": [
      "The human known as Lucas said hi!\n"
     ]
    }
   ],
   "source": [
    "# Defining the class\n",
    "class Human:\n",
    "    def say_hi(self):\n",
    "        print(\"The human known as \" + self.name + \" said hi!\") # self = this in Java\n",
    "        \n",
    "# Getting the object using the standard python builder\n",
    "h1 = Human()\n",
    "h1.name = \"Lucas\"\n",
    "\n",
    "# When running the following method, we have:\n",
    "# self == h1, so the method understands: h1.name\n",
    "# In other words, self == object\n",
    "h1.say_hi()"
   ]
  },
  {
   "cell_type": "code",
   "execution_count": 3,
   "metadata": {},
   "outputs": [
    {
     "name": "stdout",
     "output_type": "stream",
     "text": [
      "The yellow house, located in the Sesame Street is not on sale!\n",
      "The black house, located in the Pink Street is on sale!\n"
     ]
    }
   ],
   "source": [
    "# Defining a class + its constructor\n",
    "class House:\n",
    "    def __init__(self, color, street, on_sale):\n",
    "        self.color = color\n",
    "        self.street = street\n",
    "        self.on_sale = on_sale\n",
    "        \n",
    "    def the_house(self):\n",
    "        if self.on_sale == True:\n",
    "            print(\"The \" + self.color + \" house, located in the \" + self.street + \" is on sale!\")\n",
    "        else:\n",
    "            print(\"The \" + self.color + \" house, located in the \" + self.street + \" is not on sale!\")\n",
    "\n",
    "# Getting the object\n",
    "house1 = House(\"yellow\", \"Sesame Street\", False)\n",
    "house2 = House(\"black\", \"Pink Street\", True)\n",
    "\n",
    "house1.the_house()\n",
    "house2.the_house()"
   ]
  },
  {
   "cell_type": "code",
   "execution_count": 7,
   "metadata": {},
   "outputs": [
    {
     "name": "stdout",
     "output_type": "stream",
     "text": [
      "The trainer Lucas owns a Mudkip!\n",
      "The trainer Janet owns a Pikachu!\n"
     ]
    }
   ],
   "source": [
    "# Using different classes and objects together\n",
    "class Trainer:\n",
    "    def __init__(self, name, gender, owned_pk):\n",
    "        self.name = name\n",
    "        self.gender = gender\n",
    "        self.owned_pk = owned_pk\n",
    "        \n",
    "    def say_hi(self):\n",
    "        print(\"The trainer \" + self.name + \" owns a \" + self.owned_pk.name + \"!\")\n",
    "        \n",
    "class Pk:\n",
    "    def __init__(self, name, element):\n",
    "        self.name = name\n",
    "        self.element = element\n",
    "\n",
    "pk1 = Pk(\"Pikachu\", \"thunder\")\n",
    "pk2 = Pk(\"Mudkip\", \"water\")\n",
    "t1 = Trainer(\"Lucas\", \"male\", pk2)\n",
    "t2 = Trainer(\"Janet\", \"female\", pk1)\n",
    "\n",
    "t1.say_hi()\n",
    "t2.say_hi()"
   ]
  },
  {
   "cell_type": "code",
   "execution_count": null,
   "metadata": {},
   "outputs": [],
   "source": []
  }
 ],
 "metadata": {
  "kernelspec": {
   "display_name": "Python 3",
   "language": "python",
   "name": "python3"
  },
  "language_info": {
   "codemirror_mode": {
    "name": "ipython",
    "version": 3
   },
   "file_extension": ".py",
   "mimetype": "text/x-python",
   "name": "python",
   "nbconvert_exporter": "python",
   "pygments_lexer": "ipython3",
   "version": "3.8.3"
  }
 },
 "nbformat": 4,
 "nbformat_minor": 4
}
